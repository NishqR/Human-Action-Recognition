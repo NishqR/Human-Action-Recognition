{
 "cells": [
  {
   "cell_type": "markdown",
   "metadata": {
    "id": "zB6k35EVIZ48"
   },
   "source": [
    "# Test Data Evaluation"
   ]
  },
  {
   "cell_type": "code",
   "execution_count": 62,
   "metadata": {
    "colab": {
     "base_uri": "https://localhost:8080/",
     "height": 424
    },
    "id": "7yiUCxbkxBQA",
    "outputId": "3054c632-7732-4a4e-9daa-d7250d3c5146"
   },
   "outputs": [
    {
     "data": {
      "text/html": [
       "<div>\n",
       "<style scoped>\n",
       "    .dataframe tbody tr th:only-of-type {\n",
       "        vertical-align: middle;\n",
       "    }\n",
       "\n",
       "    .dataframe tbody tr th {\n",
       "        vertical-align: top;\n",
       "    }\n",
       "\n",
       "    .dataframe thead th {\n",
       "        text-align: right;\n",
       "    }\n",
       "</style>\n",
       "<table border=\"1\" class=\"dataframe\">\n",
       "  <thead>\n",
       "    <tr style=\"text-align: right;\">\n",
       "      <th></th>\n",
       "      <th>FileName</th>\n",
       "      <th>action</th>\n",
       "      <th>action_class</th>\n",
       "      <th>action_num</th>\n",
       "      <th>action_class_num</th>\n",
       "      <th>FileName_scaled</th>\n",
       "    </tr>\n",
       "  </thead>\n",
       "  <tbody>\n",
       "    <tr>\n",
       "      <th>535</th>\n",
       "      <td>Img_257.jpg</td>\n",
       "      <td>rowing_a_boat</td>\n",
       "      <td>other_activity</td>\n",
       "      <td>12</td>\n",
       "      <td>2</td>\n",
       "      <td>images_scaled/Img_257.jpg</td>\n",
       "    </tr>\n",
       "    <tr>\n",
       "      <th>1369</th>\n",
       "      <td>Img_4929.jpg</td>\n",
       "      <td>riding_a_bike</td>\n",
       "      <td>other_activity</td>\n",
       "      <td>10</td>\n",
       "      <td>2</td>\n",
       "      <td>images_scaled/Img_4929.jpg</td>\n",
       "    </tr>\n",
       "    <tr>\n",
       "      <th>1171</th>\n",
       "      <td>Img_4372.jpg</td>\n",
       "      <td>climbing</td>\n",
       "      <td>other_activity</td>\n",
       "      <td>1</td>\n",
       "      <td>2</td>\n",
       "      <td>images_scaled/Img_4372.jpg</td>\n",
       "    </tr>\n",
       "    <tr>\n",
       "      <th>2921</th>\n",
       "      <td>Img_9279.jpg</td>\n",
       "      <td>walking_the_dog</td>\n",
       "      <td>Interacting_with_animal</td>\n",
       "      <td>18</td>\n",
       "      <td>0</td>\n",
       "      <td>images_scaled/Img_9279.jpg</td>\n",
       "    </tr>\n",
       "    <tr>\n",
       "      <th>736</th>\n",
       "      <td>Img_3148.jpg</td>\n",
       "      <td>texting_message</td>\n",
       "      <td>using_comm_device</td>\n",
       "      <td>16</td>\n",
       "      <td>4</td>\n",
       "      <td>images_scaled/Img_3148.jpg</td>\n",
       "    </tr>\n",
       "    <tr>\n",
       "      <th>...</th>\n",
       "      <td>...</td>\n",
       "      <td>...</td>\n",
       "      <td>...</td>\n",
       "      <td>...</td>\n",
       "      <td>...</td>\n",
       "      <td>...</td>\n",
       "    </tr>\n",
       "    <tr>\n",
       "      <th>1076</th>\n",
       "      <td>Img_4112.jpg</td>\n",
       "      <td>riding_a_horse</td>\n",
       "      <td>Interacting_with_animal</td>\n",
       "      <td>11</td>\n",
       "      <td>0</td>\n",
       "      <td>images_scaled/Img_4112.jpg</td>\n",
       "    </tr>\n",
       "    <tr>\n",
       "      <th>545</th>\n",
       "      <td>Img_2596.jpg</td>\n",
       "      <td>cleaning_the_floor</td>\n",
       "      <td>domestic_work</td>\n",
       "      <td>0</td>\n",
       "      <td>1</td>\n",
       "      <td>images_scaled/Img_2596.jpg</td>\n",
       "    </tr>\n",
       "    <tr>\n",
       "      <th>1645</th>\n",
       "      <td>Img_5672.jpg</td>\n",
       "      <td>jumping</td>\n",
       "      <td>other_activity</td>\n",
       "      <td>6</td>\n",
       "      <td>2</td>\n",
       "      <td>images_scaled/Img_5672.jpg</td>\n",
       "    </tr>\n",
       "    <tr>\n",
       "      <th>894</th>\n",
       "      <td>Img_3588.jpg</td>\n",
       "      <td>cooking</td>\n",
       "      <td>domestic_work</td>\n",
       "      <td>2</td>\n",
       "      <td>1</td>\n",
       "      <td>images_scaled/Img_3588.jpg</td>\n",
       "    </tr>\n",
       "    <tr>\n",
       "      <th>1387</th>\n",
       "      <td>Img_4963.jpg</td>\n",
       "      <td>playing_violin</td>\n",
       "      <td>playing_musical_instrument</td>\n",
       "      <td>9</td>\n",
       "      <td>3</td>\n",
       "      <td>images_scaled/Img_4963.jpg</td>\n",
       "    </tr>\n",
       "  </tbody>\n",
       "</table>\n",
       "<p>758 rows × 6 columns</p>\n",
       "</div>"
      ],
      "text/plain": [
       "          FileName  ...             FileName_scaled\n",
       "535    Img_257.jpg  ...   images_scaled/Img_257.jpg\n",
       "1369  Img_4929.jpg  ...  images_scaled/Img_4929.jpg\n",
       "1171  Img_4372.jpg  ...  images_scaled/Img_4372.jpg\n",
       "2921  Img_9279.jpg  ...  images_scaled/Img_9279.jpg\n",
       "736   Img_3148.jpg  ...  images_scaled/Img_3148.jpg\n",
       "...            ...  ...                         ...\n",
       "1076  Img_4112.jpg  ...  images_scaled/Img_4112.jpg\n",
       "545   Img_2596.jpg  ...  images_scaled/Img_2596.jpg\n",
       "1645  Img_5672.jpg  ...  images_scaled/Img_5672.jpg\n",
       "894   Img_3588.jpg  ...  images_scaled/Img_3588.jpg\n",
       "1387  Img_4963.jpg  ...  images_scaled/Img_4963.jpg\n",
       "\n",
       "[758 rows x 6 columns]"
      ]
     },
     "execution_count": 62,
     "metadata": {},
     "output_type": "execute_result"
    }
   ],
   "source": [
    "test_data_df"
   ]
  },
  {
   "cell_type": "code",
   "execution_count": 63,
   "metadata": {
    "colab": {
     "base_uri": "https://localhost:8080/"
    },
    "id": "PO0JXwGiLHHf",
    "outputId": "e369f1d8-b6b9-4287-8c4b-178a01378c7d"
   },
   "outputs": [
    {
     "name": "stdout",
     "output_type": "stream",
     "text": [
      "Model: \"model_4\"\n",
      "__________________________________________________________________________________________________\n",
      "Layer (type)                    Output Shape         Param #     Connected to                     \n",
      "==================================================================================================\n",
      "input (InputLayer)              [(None, 224, 224, 3) 0                                            \n",
      "__________________________________________________________________________________________________\n",
      "conv_1 (Conv2D)                 (None, 224, 224, 64) 9472        input[0][0]                      \n",
      "__________________________________________________________________________________________________\n",
      "batch_normalization_148 (BatchN (None, 224, 224, 64) 256         conv_1[0][0]                     \n",
      "__________________________________________________________________________________________________\n",
      "residual_block_64 (ResidualBloc (None, 112, 112, 64) 78784       batch_normalization_148[0][0]    \n",
      "__________________________________________________________________________________________________\n",
      "residual_block_65 (ResidualBloc (None, 112, 112, 64) 74368       residual_block_64[0][0]          \n",
      "__________________________________________________________________________________________________\n",
      "residual_block_66 (ResidualBloc (None, 112, 112, 64) 74368       residual_block_65[0][0]          \n",
      "__________________________________________________________________________________________________\n",
      "residual_block_67 (ResidualBloc (None, 56, 56, 128)  231296      residual_block_66[0][0]          \n",
      "__________________________________________________________________________________________________\n",
      "residual_block_68 (ResidualBloc (None, 56, 56, 128)  296192      residual_block_67[0][0]          \n",
      "__________________________________________________________________________________________________\n",
      "residual_block_69 (ResidualBloc (None, 56, 56, 128)  296192      residual_block_68[0][0]          \n",
      "__________________________________________________________________________________________________\n",
      "residual_block_70 (ResidualBloc (None, 56, 56, 128)  296192      residual_block_69[0][0]          \n",
      "__________________________________________________________________________________________________\n",
      "residual_block_71 (ResidualBloc (None, 28, 28, 256)  921344      residual_block_70[0][0]          \n",
      "__________________________________________________________________________________________________\n",
      "residual_block_72 (ResidualBloc (None, 28, 28, 256)  1182208     residual_block_71[0][0]          \n",
      "__________________________________________________________________________________________________\n",
      "residual_block_73 (ResidualBloc (None, 28, 28, 256)  1182208     residual_block_72[0][0]          \n",
      "__________________________________________________________________________________________________\n",
      "residual_block_74 (ResidualBloc (None, 28, 28, 256)  1182208     residual_block_73[0][0]          \n",
      "__________________________________________________________________________________________________\n",
      "residual_block_75 (ResidualBloc (None, 28, 28, 256)  1182208     residual_block_74[0][0]          \n",
      "__________________________________________________________________________________________________\n",
      "residual_block_76 (ResidualBloc (None, 28, 28, 256)  1182208     residual_block_75[0][0]          \n",
      "__________________________________________________________________________________________________\n",
      "residual_block_77 (ResidualBloc (None, 14, 14, 512)  3677696     residual_block_76[0][0]          \n",
      "__________________________________________________________________________________________________\n",
      "residual_block_78 (ResidualBloc (None, 14, 14, 512)  4723712     residual_block_77[0][0]          \n",
      "__________________________________________________________________________________________________\n",
      "residual_block_79 (ResidualBloc (None, 14, 14, 512)  4723712     residual_block_78[0][0]          \n",
      "__________________________________________________________________________________________________\n",
      "gap_1 (GlobalAveragePooling2D)  (None, 512)          0           residual_block_79[0][0]          \n",
      "__________________________________________________________________________________________________\n",
      "flat_1 (Flatten)                (None, 512)          0           gap_1[0][0]                      \n",
      "__________________________________________________________________________________________________\n",
      "action_class (Dense)            (None, 5)            2565        flat_1[0][0]                     \n",
      "__________________________________________________________________________________________________\n",
      "action (Dense)                  (None, 21)           10773       flat_1[0][0]                     \n",
      "==================================================================================================\n",
      "Total params: 21,327,962\n",
      "Trainable params: 21,310,810\n",
      "Non-trainable params: 17,152\n",
      "__________________________________________________________________________________________________\n"
     ]
    }
   ],
   "source": [
    "best_model = tf.keras.models.load_model(\"drive/MyDrive/reg_labmda_0p001_model\")\n",
    "\n",
    "best_model.summary()\n",
    "\n"
   ]
  },
  {
   "cell_type": "code",
   "execution_count": 69,
   "metadata": {
    "id": "hWAMDrTkq3Z0"
   },
   "outputs": [],
   "source": [
    "BATCH_SIZE = 64\n",
    "\n",
    "data_mean = 0.\n",
    "data_std = 255.0\n",
    "testing_generator = DataGenerator(\n",
    "                                    data_frame = test_data_df, \n",
    "                                    batch_size = BATCH_SIZE, \n",
    "                                    data_mean = data_mean, \n",
    "                                    data_std = data_std, \n",
    "                                    create_folder = False, \n",
    "                                    dim = (224, 224, 3), \n",
    "                                    shuffle = True, \n",
    "                                    augment = False,\n",
    "                                    file_name = 'drive/MyDrive/test_data.csv',\n",
    "                                    image_column = \"FileName_scaled\" \n",
    "                                    )\n",
    "\n"
   ]
  },
  {
   "cell_type": "code",
   "execution_count": 142,
   "metadata": {
    "colab": {
     "base_uri": "https://localhost:8080/"
    },
    "id": "QSZh1UjXLKMu",
    "outputId": "a1577463-d827-4f2f-eb6e-f2de4e7659d9"
   },
   "outputs": [
    {
     "name": "stdout",
     "output_type": "stream",
     "text": [
      "11/11 [==============================] - 2s 152ms/step - loss: 4.8139 - action_class_loss: 1.4272 - action_loss: 2.2995 - action_class_accuracy: 0.6406 - action_class_top_k_categorical_accuracy: 1.0000 - action_accuracy: 0.4915 - action_top_k_categorical_accuracy: 0.8281\n"
     ]
    }
   ],
   "source": [
    "results = best_model.evaluate(testing_generator, batch_size = BATCH_SIZE)\n"
   ]
  },
  {
   "cell_type": "code",
   "execution_count": 143,
   "metadata": {
    "colab": {
     "base_uri": "https://localhost:8080/"
    },
    "id": "yihwgZ--IwCO",
    "outputId": "0c3366b9-455f-4833-b9ee-b1e7a8afc9ec"
   },
   "outputs": [
    {
     "data": {
      "text/plain": [
       "[4.813885688781738,\n",
       " 1.4271916151046753,\n",
       " 2.299529790878296,\n",
       " 0.640625,\n",
       " 1.0,\n",
       " 0.49147728085517883,\n",
       " 0.828125]"
      ]
     },
     "execution_count": 143,
     "metadata": {},
     "output_type": "execute_result"
    }
   ],
   "source": [
    "results"
   ]
  },
  {
   "cell_type": "code",
   "execution_count": 144,
   "metadata": {
    "id": "zoPBHMIprUlx"
   },
   "outputs": [],
   "source": [
    "metrics = best_model.metrics_names"
   ]
  },
  {
   "cell_type": "code",
   "execution_count": 146,
   "metadata": {
    "colab": {
     "base_uri": "https://localhost:8080/"
    },
    "id": "tYsvLlsrIhPT",
    "outputId": "f936d2df-60f7-45e9-beca-c586aa0e9eb0"
   },
   "outputs": [
    {
     "name": "stdout",
     "output_type": "stream",
     "text": [
      "loss: 4.813885688781738\n",
      "action_class_loss: 1.4271916151046753\n",
      "action_loss: 2.299529790878296\n",
      "action_class_accuracy: 0.640625\n",
      "action_class_top_k_categorical_accuracy: 1.0\n",
      "action_accuracy: 0.49147728085517883\n",
      "action_top_k_categorical_accuracy: 0.828125\n"
     ]
    }
   ],
   "source": [
    "for i in range(len(results)): \n",
    "    print(metrics[i] + \": \" + str(results[i]))\n"
   ]
  },
  {
   "cell_type": "markdown",
   "metadata": {
    "id": "m0SwtV24OVLs"
   },
   "source": [
    "<span style=\"font-size:1em;\">✔</span> **Observations:**\n",
    " - This matches the validation set performance"
   ]
  },
  {
   "cell_type": "code",
   "execution_count": null,
   "metadata": {
    "id": "oISAY3VEIhbE"
   },
   "outputs": [],
   "source": []
  },
  {
   "cell_type": "code",
   "execution_count": null,
   "metadata": {
    "id": "qv7C4gPZIhfl"
   },
   "outputs": [],
   "source": []
  },
  {
   "cell_type": "markdown",
   "metadata": {
    "id": "l-2MQxVMI-OS"
   },
   "source": [
    "# Making Predictions"
   ]
  },
  {
   "cell_type": "code",
   "execution_count": 77,
   "metadata": {
    "id": "05zHKvInsBUv"
   },
   "outputs": [],
   "source": [
    "predict_df = pd.read_csv('A1_data/S40AR_test_data.csv')"
   ]
  },
  {
   "cell_type": "code",
   "execution_count": 78,
   "metadata": {
    "colab": {
     "base_uri": "https://localhost:8080/",
     "height": 424
    },
    "id": "ury2P8Y0wHMj",
    "outputId": "b6114a68-ad57-4fed-fa04-dc925effb108"
   },
   "outputs": [
    {
     "data": {
      "text/html": [
       "<div>\n",
       "<style scoped>\n",
       "    .dataframe tbody tr th:only-of-type {\n",
       "        vertical-align: middle;\n",
       "    }\n",
       "\n",
       "    .dataframe tbody tr th {\n",
       "        vertical-align: top;\n",
       "    }\n",
       "\n",
       "    .dataframe thead th {\n",
       "        text-align: right;\n",
       "    }\n",
       "</style>\n",
       "<table border=\"1\" class=\"dataframe\">\n",
       "  <thead>\n",
       "    <tr style=\"text-align: right;\">\n",
       "      <th></th>\n",
       "      <th>FileName</th>\n",
       "    </tr>\n",
       "  </thead>\n",
       "  <tbody>\n",
       "    <tr>\n",
       "      <th>0</th>\n",
       "      <td>Img_1005.jpg</td>\n",
       "    </tr>\n",
       "    <tr>\n",
       "      <th>1</th>\n",
       "      <td>Img_1012.jpg</td>\n",
       "    </tr>\n",
       "    <tr>\n",
       "      <th>2</th>\n",
       "      <td>Img_1014.jpg</td>\n",
       "    </tr>\n",
       "    <tr>\n",
       "      <th>3</th>\n",
       "      <td>Img_1015.jpg</td>\n",
       "    </tr>\n",
       "    <tr>\n",
       "      <th>4</th>\n",
       "      <td>Img_102.jpg</td>\n",
       "    </tr>\n",
       "    <tr>\n",
       "      <th>...</th>\n",
       "      <td>...</td>\n",
       "    </tr>\n",
       "    <tr>\n",
       "      <th>2094</th>\n",
       "      <td>Img_985.jpg</td>\n",
       "    </tr>\n",
       "    <tr>\n",
       "      <th>2095</th>\n",
       "      <td>Img_986.jpg</td>\n",
       "    </tr>\n",
       "    <tr>\n",
       "      <th>2096</th>\n",
       "      <td>Img_993.jpg</td>\n",
       "    </tr>\n",
       "    <tr>\n",
       "      <th>2097</th>\n",
       "      <td>Img_994.jpg</td>\n",
       "    </tr>\n",
       "    <tr>\n",
       "      <th>2098</th>\n",
       "      <td>Img_996.jpg</td>\n",
       "    </tr>\n",
       "  </tbody>\n",
       "</table>\n",
       "<p>2099 rows × 1 columns</p>\n",
       "</div>"
      ],
      "text/plain": [
       "          FileName\n",
       "0     Img_1005.jpg\n",
       "1     Img_1012.jpg\n",
       "2     Img_1014.jpg\n",
       "3     Img_1015.jpg\n",
       "4      Img_102.jpg\n",
       "...            ...\n",
       "2094   Img_985.jpg\n",
       "2095   Img_986.jpg\n",
       "2096   Img_993.jpg\n",
       "2097   Img_994.jpg\n",
       "2098   Img_996.jpg\n",
       "\n",
       "[2099 rows x 1 columns]"
      ]
     },
     "execution_count": 78,
     "metadata": {},
     "output_type": "execute_result"
    }
   ],
   "source": [
    "predict_df"
   ]
  },
  {
   "cell_type": "markdown",
   "metadata": {
    "id": "D7S2BdXONKLz"
   },
   "source": [
    "First we need to resize all the images to 224x224"
   ]
  },
  {
   "cell_type": "code",
   "execution_count": 79,
   "metadata": {
    "id": "kgQvtshFwq48"
   },
   "outputs": [],
   "source": [
    "!mkdir \"predict_images_scaled\"\n",
    "for i in range(len(predict_df)):\n",
    "    img=mpimg.imread(img_dir+predict_df['FileName'][i])\n",
    "    #imgplot = plt.imshow(img)\n",
    "    image_scaled = tf.image.convert_image_dtype(img, tf.float32)\n",
    "    image_scaled = tf.image.resize(image_scaled, (224, 224))\n",
    "    \n",
    "    \n",
    "    tf.keras.preprocessing.image.save_img(\"predict_images_scaled/\"+predict_df['FileName'][i], image_scaled)"
   ]
  },
  {
   "cell_type": "code",
   "execution_count": 80,
   "metadata": {
    "id": "xsyk_5_oxIlC"
   },
   "outputs": [],
   "source": [
    "predict_df[\"FileName_scaled\"] = \"predict_images_scaled/\" + predict_df['FileName'] "
   ]
  },
  {
   "cell_type": "code",
   "execution_count": 81,
   "metadata": {
    "colab": {
     "base_uri": "https://localhost:8080/",
     "height": 424
    },
    "id": "w1C1yXBTxUoz",
    "outputId": "f4339f4a-9b61-4f04-ee70-fe380886e0ab"
   },
   "outputs": [
    {
     "data": {
      "text/html": [
       "<div>\n",
       "<style scoped>\n",
       "    .dataframe tbody tr th:only-of-type {\n",
       "        vertical-align: middle;\n",
       "    }\n",
       "\n",
       "    .dataframe tbody tr th {\n",
       "        vertical-align: top;\n",
       "    }\n",
       "\n",
       "    .dataframe thead th {\n",
       "        text-align: right;\n",
       "    }\n",
       "</style>\n",
       "<table border=\"1\" class=\"dataframe\">\n",
       "  <thead>\n",
       "    <tr style=\"text-align: right;\">\n",
       "      <th></th>\n",
       "      <th>FileName</th>\n",
       "      <th>FileName_scaled</th>\n",
       "    </tr>\n",
       "  </thead>\n",
       "  <tbody>\n",
       "    <tr>\n",
       "      <th>0</th>\n",
       "      <td>Img_1005.jpg</td>\n",
       "      <td>predict_images_scaled/Img_1005.jpg</td>\n",
       "    </tr>\n",
       "    <tr>\n",
       "      <th>1</th>\n",
       "      <td>Img_1012.jpg</td>\n",
       "      <td>predict_images_scaled/Img_1012.jpg</td>\n",
       "    </tr>\n",
       "    <tr>\n",
       "      <th>2</th>\n",
       "      <td>Img_1014.jpg</td>\n",
       "      <td>predict_images_scaled/Img_1014.jpg</td>\n",
       "    </tr>\n",
       "    <tr>\n",
       "      <th>3</th>\n",
       "      <td>Img_1015.jpg</td>\n",
       "      <td>predict_images_scaled/Img_1015.jpg</td>\n",
       "    </tr>\n",
       "    <tr>\n",
       "      <th>4</th>\n",
       "      <td>Img_102.jpg</td>\n",
       "      <td>predict_images_scaled/Img_102.jpg</td>\n",
       "    </tr>\n",
       "    <tr>\n",
       "      <th>...</th>\n",
       "      <td>...</td>\n",
       "      <td>...</td>\n",
       "    </tr>\n",
       "    <tr>\n",
       "      <th>2094</th>\n",
       "      <td>Img_985.jpg</td>\n",
       "      <td>predict_images_scaled/Img_985.jpg</td>\n",
       "    </tr>\n",
       "    <tr>\n",
       "      <th>2095</th>\n",
       "      <td>Img_986.jpg</td>\n",
       "      <td>predict_images_scaled/Img_986.jpg</td>\n",
       "    </tr>\n",
       "    <tr>\n",
       "      <th>2096</th>\n",
       "      <td>Img_993.jpg</td>\n",
       "      <td>predict_images_scaled/Img_993.jpg</td>\n",
       "    </tr>\n",
       "    <tr>\n",
       "      <th>2097</th>\n",
       "      <td>Img_994.jpg</td>\n",
       "      <td>predict_images_scaled/Img_994.jpg</td>\n",
       "    </tr>\n",
       "    <tr>\n",
       "      <th>2098</th>\n",
       "      <td>Img_996.jpg</td>\n",
       "      <td>predict_images_scaled/Img_996.jpg</td>\n",
       "    </tr>\n",
       "  </tbody>\n",
       "</table>\n",
       "<p>2099 rows × 2 columns</p>\n",
       "</div>"
      ],
      "text/plain": [
       "          FileName                     FileName_scaled\n",
       "0     Img_1005.jpg  predict_images_scaled/Img_1005.jpg\n",
       "1     Img_1012.jpg  predict_images_scaled/Img_1012.jpg\n",
       "2     Img_1014.jpg  predict_images_scaled/Img_1014.jpg\n",
       "3     Img_1015.jpg  predict_images_scaled/Img_1015.jpg\n",
       "4      Img_102.jpg   predict_images_scaled/Img_102.jpg\n",
       "...            ...                                 ...\n",
       "2094   Img_985.jpg   predict_images_scaled/Img_985.jpg\n",
       "2095   Img_986.jpg   predict_images_scaled/Img_986.jpg\n",
       "2096   Img_993.jpg   predict_images_scaled/Img_993.jpg\n",
       "2097   Img_994.jpg   predict_images_scaled/Img_994.jpg\n",
       "2098   Img_996.jpg   predict_images_scaled/Img_996.jpg\n",
       "\n",
       "[2099 rows x 2 columns]"
      ]
     },
     "execution_count": 81,
     "metadata": {},
     "output_type": "execute_result"
    }
   ],
   "source": [
    "predict_df"
   ]
  },
  {
   "cell_type": "markdown",
   "metadata": {
    "id": "qurAY2rgNyRc"
   },
   "source": [
    "Now we need to link the prediction values with their associated class labels for both tasks"
   ]
  },
  {
   "cell_type": "code",
   "execution_count": 165,
   "metadata": {
    "id": "Wt3wvL0FNwqz"
   },
   "outputs": [],
   "source": [
    "action_labels = {}\n",
    "for i in range(21):\n",
    "    action_labels[i] = train_data_df[\"action\"][train_data_df[\"action_num\"] == i].unique()[0] \n",
    "\n",
    "action_class_labels = {}\n",
    "for i in range(5):\n",
    "    action_class_labels[i] = train_data_df[\"action_class\"][train_data_df[\"action_class_num\"] == i].unique()[0] "
   ]
  },
  {
   "cell_type": "code",
   "execution_count": 166,
   "metadata": {
    "colab": {
     "base_uri": "https://localhost:8080/"
    },
    "id": "_UWOnvicNw8x",
    "outputId": "c8a4507d-6832-4048-90d7-dc42023f135a"
   },
   "outputs": [
    {
     "data": {
      "text/plain": [
       "{0: 'cleaning_the_floor',\n",
       " 1: 'climbing',\n",
       " 2: 'cooking',\n",
       " 3: 'cutting_vegetables',\n",
       " 4: 'feeding_a_horse',\n",
       " 5: 'gardening',\n",
       " 6: 'jumping',\n",
       " 7: 'phoning',\n",
       " 8: 'playing_guitar',\n",
       " 9: 'playing_violin',\n",
       " 10: 'riding_a_bike',\n",
       " 11: 'riding_a_horse',\n",
       " 12: 'rowing_a_boat',\n",
       " 13: 'running',\n",
       " 14: 'shooting_an_arrow',\n",
       " 15: 'taking_photos',\n",
       " 16: 'texting_message',\n",
       " 17: 'using_a_computer',\n",
       " 18: 'walking_the_dog',\n",
       " 19: 'washing_dishes',\n",
       " 20: 'watching_TV'}"
      ]
     },
     "execution_count": 166,
     "metadata": {},
     "output_type": "execute_result"
    }
   ],
   "source": [
    "action_labels"
   ]
  },
  {
   "cell_type": "code",
   "execution_count": 167,
   "metadata": {
    "colab": {
     "base_uri": "https://localhost:8080/"
    },
    "id": "1ZQFuHzUNxI-",
    "outputId": "ce2533ae-4557-4eaa-b697-42994f8fbbcd"
   },
   "outputs": [
    {
     "data": {
      "text/plain": [
       "{0: 'Interacting_with_animal',\n",
       " 1: 'domestic_work',\n",
       " 2: 'other_activity',\n",
       " 3: 'playing_musical_instrument',\n",
       " 4: 'using_comm_device'}"
      ]
     },
     "execution_count": 167,
     "metadata": {},
     "output_type": "execute_result"
    }
   ],
   "source": [
    "action_class_labels"
   ]
  },
  {
   "cell_type": "markdown",
   "metadata": {
    "id": "4TlzIVZ0NQOH"
   },
   "source": [
    "Now we can make the predictions"
   ]
  },
  {
   "cell_type": "code",
   "execution_count": 168,
   "metadata": {
    "id": "kDRbsYVqLTtW"
   },
   "outputs": [],
   "source": [
    "rows_list = []\n",
    "for i in range(len(predict_df)):\n",
    "    img = image.load_img(predict_df['FileName_scaled'][i])\n",
    "    x = image.img_to_array(img)\n",
    "    x = np.expand_dims(x, axis=0)\n",
    "    x /= 255\n",
    "    #images = np.vstack([x])\n",
    "\n",
    "    prediction = best_model.predict(x)\n",
    "\n",
    "    dict_line = {\"FileName\": predict_df['FileName_scaled'][i], \"action\": action_labels[prediction[1][0].argmax()], \"action_class\":action_class_labels[prediction[0][0].argmax()]}\n",
    "    rows_list.append(dict_line)\n",
    "\n",
    "predictions_df = pd.DataFrame(rows_list)\n",
    "predictions_df.to_csv(\"predictions.csv\", index = False)\n"
   ]
  },
  {
   "cell_type": "code",
   "execution_count": null,
   "metadata": {
    "id": "KP04TD3HLTw9"
   },
   "outputs": [],
   "source": []
  },
  {
   "cell_type": "code",
   "execution_count": 171,
   "metadata": {
    "id": "ayVJdYQ4KaNy"
   },
   "outputs": [],
   "source": []
  },
  {
   "cell_type": "code",
   "execution_count": null,
   "metadata": {
    "id": "5tBjGRK6O1-C"
   },
   "outputs": [],
   "source": []
  }
 ],
 "metadata": {
  "accelerator": "GPU",
  "colab": {
   "collapsed_sections": [
    "eXn1WIyt7h9r",
    "IVr2YJy85EG-",
    "a6IfGkKmmS_n"
   ],
   "machine_shape": "hm",
   "name": "Untitled1.ipynb",
   "provenance": []
  },
  "kernelspec": {
   "display_name": "Python 3 (ipykernel)",
   "language": "python",
   "name": "python3"
  },
  "language_info": {
   "codemirror_mode": {
    "name": "ipython",
    "version": 3
   },
   "file_extension": ".py",
   "mimetype": "text/x-python",
   "name": "python",
   "nbconvert_exporter": "python",
   "pygments_lexer": "ipython3",
   "version": "3.8.8"
  }
 },
 "nbformat": 4,
 "nbformat_minor": 1
}
